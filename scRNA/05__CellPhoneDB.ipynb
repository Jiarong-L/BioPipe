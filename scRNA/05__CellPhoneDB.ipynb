{
 "cells": [
  {
   "cell_type": "markdown",
   "id": "7e2d8489-2409-4f64-9d00-0807e394cd23",
   "metadata": {},
   "source": [
    "注意：gene/protein ids must be HUMAN，其它物种需要先转换至相应的orthologous  --- 本例使用pbmc, 假设我们已经**完成了CellType注释**：\n",
    "\n",
    "[CellphoneDB 教程](https://cellphonedb.readthedocs.io/en/latest/)\n",
    "\n",
    "\n",
    "1. 先自 [releases](https://github.com/ventolab/cellphonedb-data/releases) 下载、解压，获取其中的 cellphonedb.zip\n",
    "2. 跟随 [notebooks](https://github.com/ventolab/CellphoneDB/tree/master/notebooks) 进行练习"
   ]
  },
  {
   "cell_type": "markdown",
   "id": "f4a49df2-c355-4509-a0ab-04976a557cfc",
   "metadata": {},
   "source": [
    "## 输入示例"
   ]
  },
  {
   "cell_type": "code",
   "execution_count": 1,
   "id": "2ecb7a91-2cc3-41db-90ec-feb22abf2dea",
   "metadata": {},
   "outputs": [
    {
     "data": {
      "text/plain": [
       "AnnData object with n_obs × n_vars = 2697 × 3000\n",
       "    obs: 'orig.ident', 'nCount_RNA', 'nFeature_RNA', 'pct.mt', 'pct.hb', 'pct.rp', 'nCount_SCT', 'nFeature_SCT', 'S.Score', 'G2M.Score', 'Phase', 'old.ident', 'CC.Difference', 'SCT_snn_res.0.1', 'seurat_clusters', 'Anno_1'\n",
       "    var: 'features'\n",
       "    uns: 'neighbors'\n",
       "    obsm: 'X_pca', 'X_tsne', 'X_umap'\n",
       "    varm: 'PCs'\n",
       "    obsp: 'distances'"
      ]
     },
     "execution_count": 1,
     "metadata": {},
     "output_type": "execute_result"
    }
   ],
   "source": [
    "import cellphonedb\n",
    "import scanpy as sc\n",
    "import numpy as np\n",
    "import pandas as pd\n",
    "import warnings\n",
    "warnings.filterwarnings('ignore')\n",
    "\n",
    "adata = sc.read_h5ad(\"tmp/pbmc3k_anno1.h5ad\")  \n",
    "adata.obs['seurat_clusters'] =  adata.obs[\"seurat_clusters\"].astype('category')\n",
    "\n",
    "\n",
    "adata"
   ]
  },
  {
   "cell_type": "code",
   "execution_count": 2,
   "id": "7a5ad968-d280-4c3e-82fc-52e6066487fb",
   "metadata": {},
   "outputs": [
    {
     "data": {
      "text/html": [
       "<div>\n",
       "<style scoped>\n",
       "    .dataframe tbody tr th:only-of-type {\n",
       "        vertical-align: middle;\n",
       "    }\n",
       "\n",
       "    .dataframe tbody tr th {\n",
       "        vertical-align: top;\n",
       "    }\n",
       "\n",
       "    .dataframe thead th {\n",
       "        text-align: right;\n",
       "    }\n",
       "</style>\n",
       "<table border=\"1\" class=\"dataframe\">\n",
       "  <thead>\n",
       "    <tr style=\"text-align: right;\">\n",
       "      <th></th>\n",
       "      <th>cell_type</th>\n",
       "    </tr>\n",
       "    <tr>\n",
       "      <th>barcode_sample</th>\n",
       "      <th></th>\n",
       "    </tr>\n",
       "  </thead>\n",
       "  <tbody>\n",
       "    <tr>\n",
       "      <th>AAACATACAACCAC-1</th>\n",
       "      <td>T_cells</td>\n",
       "    </tr>\n",
       "    <tr>\n",
       "      <th>AAACATTGAGCTAC-1</th>\n",
       "      <td>B_cell</td>\n",
       "    </tr>\n",
       "    <tr>\n",
       "      <th>AAACATTGATCAGC-1</th>\n",
       "      <td>T_cells</td>\n",
       "    </tr>\n",
       "  </tbody>\n",
       "</table>\n",
       "</div>"
      ],
      "text/plain": [
       "                 cell_type\n",
       "barcode_sample            \n",
       "AAACATACAACCAC-1   T_cells\n",
       "AAACATTGAGCTAC-1    B_cell\n",
       "AAACATTGATCAGC-1   T_cells"
      ]
     },
     "execution_count": 2,
     "metadata": {},
     "output_type": "execute_result"
    }
   ],
   "source": [
    "## 1. metadata 即细胞注释\n",
    "metadata = adata.obs[['Anno_1']]\n",
    "metadata.rename(columns={'Anno_1': 'cell_type'}, inplace=True)\n",
    "metadata.index.names = ['barcode_sample']\n",
    "metadata.head(3)"
   ]
  },
  {
   "cell_type": "code",
   "execution_count": 3,
   "id": "6c95178c-4c7b-4138-8e6a-c64eadd87735",
   "metadata": {},
   "outputs": [
    {
     "data": {
      "text/plain": [
       "True"
      ]
     },
     "execution_count": 3,
     "metadata": {},
     "output_type": "execute_result"
    }
   ],
   "source": [
    "## 2. 保证 counts files 与 metadata一致\n",
    "list(adata.obs.index).sort() == list(metadata['cell_type']).sort()"
   ]
  },
  {
   "cell_type": "code",
   "execution_count": 4,
   "id": "bec46d1c-6c50-4b9b-8cbb-a18fb8803dc4",
   "metadata": {},
   "outputs": [
    {
     "data": {
      "text/html": [
       "<div>\n",
       "<style scoped>\n",
       "    .dataframe tbody tr th:only-of-type {\n",
       "        vertical-align: middle;\n",
       "    }\n",
       "\n",
       "    .dataframe tbody tr th {\n",
       "        vertical-align: top;\n",
       "    }\n",
       "\n",
       "    .dataframe thead th {\n",
       "        text-align: right;\n",
       "    }\n",
       "</style>\n",
       "<table border=\"1\" class=\"dataframe\">\n",
       "  <thead>\n",
       "    <tr style=\"text-align: right;\">\n",
       "      <th></th>\n",
       "      <th>cell_type</th>\n",
       "      <th>microenvironment</th>\n",
       "    </tr>\n",
       "  </thead>\n",
       "  <tbody>\n",
       "    <tr>\n",
       "      <th>0</th>\n",
       "      <td>T_cells</td>\n",
       "      <td>Env1</td>\n",
       "    </tr>\n",
       "    <tr>\n",
       "      <th>1</th>\n",
       "      <td>B_cell</td>\n",
       "      <td>Env1</td>\n",
       "    </tr>\n",
       "    <tr>\n",
       "      <th>2</th>\n",
       "      <td>Monocyte</td>\n",
       "      <td>Env1</td>\n",
       "    </tr>\n",
       "  </tbody>\n",
       "</table>\n",
       "</div>"
      ],
      "text/plain": [
       "  cell_type microenvironment\n",
       "0   T_cells             Env1\n",
       "1    B_cell             Env1\n",
       "2  Monocyte             Env1"
      ]
     },
     "execution_count": 4,
     "metadata": {},
     "output_type": "execute_result"
    }
   ],
   "source": [
    "## 3. Micronevironments --- CellphoneDB will only calculate interactions between cells that belong to a given microenvironment\n",
    "## 此处假设所有细胞都存在于一个环境中  即没有限制\n",
    "microenv = pd.DataFrame({'cell_type':metadata['cell_type'].unique()})\n",
    "microenv['microenvironment'] = 'Env1'\n",
    "microenv.head(3)"
   ]
  },
  {
   "cell_type": "markdown",
   "id": "e5681f9f-555a-406d-b45d-43a7f0b648e4",
   "metadata": {},
   "source": [
    "## 运行\n",
    "输入只能是filepath，有点麻烦 --- 流程中直接使用其命令行cellphonedb会比较方便\n",
    "\n",
    "相互作用 = 配体-受体\n",
    "\n",
    "1. cpdb_analysis_method (本例): 单纯的返回 配体-受体 在各自细胞中的表达值，取二者的平均\n",
    "2. statistical_analysis_method: 指定细胞类型中，指定的 配体-受体 是否显著高于其余背景？\n",
    "3. cpdb_degs_analysis_method: 基于DGE，更自由的统计？\n",
    "\n",
    "总之1/2/3依此扩展了筛选功能，详情见 [notebooks](https://github.com/ventolab/CellphoneDB/tree/master/notebooks)操作以及 [Document](https://cellphonedb.readthedocs.io/en/latest/RESULTS-DOCUMENTATION.html#tutorials)介绍"
   ]
  },
  {
   "cell_type": "code",
   "execution_count": 5,
   "id": "afe3da64-efcd-491d-aaf7-06fb9906c4d3",
   "metadata": {},
   "outputs": [
    {
     "name": "stdout",
     "output_type": "stream",
     "text": [
      "[ ][CORE][26/01/25-16:48:27][INFO] [Non Statistical Method] Threshold:0.1 Precision:3\n",
      "Reading user files...\n",
      "The following user files were loaded successfully:\n",
      "counts from AnnData object\n",
      "tmp/cellphoneTmp/metadata.tsv\n",
      "tmp/cellphoneTmp/microenv.tsv\n",
      "[ ][CORE][26/01/25-16:48:30][INFO] Running Basic Analysis\n",
      "[ ][CORE][26/01/25-16:48:30][INFO] Limiting cluster combinations using microenvironments\n",
      "[ ][CORE][26/01/25-16:48:30][INFO] Building results\n",
      "Saved means_result to tmp/cellphoneTmp/out\\simple_analysis_means_result_01_26_2025_164830.txt\n",
      "Saved deconvoluted to tmp/cellphoneTmp/out\\simple_analysis_deconvoluted_01_26_2025_164830.txt\n",
      "Saved deconvoluted_percents to tmp/cellphoneTmp/out\\simple_analysis_deconvoluted_percents_01_26_2025_164830.txt\n"
     ]
    }
   ],
   "source": [
    "from cellphonedb.src.core.methods import cpdb_analysis_method \n",
    "cpdb_file_path = 'tmp/cellphonedb.zip'\n",
    "meta_file_path = 'tmp/cellphoneTmp/metadata.tsv'\n",
    "microenvs_file_path = 'tmp/cellphoneTmp/microenv.tsv'\n",
    "output_path = 'tmp/cellphoneTmp/out'\n",
    "\n",
    "\n",
    "## 先保存一下\n",
    "import os\n",
    "if not os.path.exists('tmp/cellphoneTmp'):\n",
    "    os.mkdir('tmp/cellphoneTmp')\n",
    "metadata.to_csv(meta_file_path, index=True, header=True, sep = '\\t')\n",
    "microenv.to_csv(microenvs_file_path, index=False, header=True, sep = '\\t')\n",
    "\n",
    "\n",
    "## 运行 \n",
    "cpdb_results = cpdb_analysis_method.call(\n",
    "    cpdb_file_path = cpdb_file_path,         \n",
    "    meta_file_path = meta_file_path,         \n",
    "    counts_file_path = adata,     \n",
    "    counts_data = 'gene_name',          ## adata.var is \"ensembl\", \"gene_name\", \"hgnc_symbol\"\n",
    "    microenvs_file_path = microenvs_file_path,\n",
    "    output_path = output_path\n",
    ")"
   ]
  },
  {
   "cell_type": "markdown",
   "id": "37049df5-90bb-41f5-ac3e-8b3c50fa82b9",
   "metadata": {},
   "source": [
    "## Result"
   ]
  },
  {
   "cell_type": "code",
   "execution_count": 6,
   "id": "b7dc01d4-94a9-427f-b0c6-f08692098dc1",
   "metadata": {},
   "outputs": [
    {
     "data": {
      "text/plain": [
       "dict_keys(['means_result', 'deconvoluted', 'deconvoluted_percents'])"
      ]
     },
     "execution_count": 6,
     "metadata": {},
     "output_type": "execute_result"
    }
   ],
   "source": [
    "cpdb_results.keys()"
   ]
  },
  {
   "cell_type": "code",
   "execution_count": 7,
   "id": "10671a24-6a22-4198-bb9f-1c5e752a699a",
   "metadata": {},
   "outputs": [
    {
     "data": {
      "text/html": [
       "<div>\n",
       "<style scoped>\n",
       "    .dataframe tbody tr th:only-of-type {\n",
       "        vertical-align: middle;\n",
       "    }\n",
       "\n",
       "    .dataframe tbody tr th {\n",
       "        vertical-align: top;\n",
       "    }\n",
       "\n",
       "    .dataframe thead th {\n",
       "        text-align: right;\n",
       "    }\n",
       "</style>\n",
       "<table border=\"1\" class=\"dataframe\">\n",
       "  <thead>\n",
       "    <tr style=\"text-align: right;\">\n",
       "      <th></th>\n",
       "      <th>id_cp_interaction</th>\n",
       "      <th>interacting_pair</th>\n",
       "      <th>partner_a</th>\n",
       "      <th>partner_b</th>\n",
       "      <th>gene_a</th>\n",
       "      <th>gene_b</th>\n",
       "      <th>secreted</th>\n",
       "      <th>receptor_a</th>\n",
       "      <th>receptor_b</th>\n",
       "      <th>annotation_strategy</th>\n",
       "      <th>...</th>\n",
       "      <th>NK_cell|T_cells</th>\n",
       "      <th>NK_cell|B_cell</th>\n",
       "      <th>NK_cell|Monocyte</th>\n",
       "      <th>NK_cell|NK_cell</th>\n",
       "      <th>NK_cell|Platelets</th>\n",
       "      <th>Platelets|T_cells</th>\n",
       "      <th>Platelets|B_cell</th>\n",
       "      <th>Platelets|Monocyte</th>\n",
       "      <th>Platelets|NK_cell</th>\n",
       "      <th>Platelets|Platelets</th>\n",
       "    </tr>\n",
       "  </thead>\n",
       "  <tbody>\n",
       "    <tr>\n",
       "      <th>2868</th>\n",
       "      <td>CPI-SS01560CA22</td>\n",
       "      <td>CD99_PILRA</td>\n",
       "      <td>simple:P14209</td>\n",
       "      <td>simple:Q9UKJ1</td>\n",
       "      <td>CD99</td>\n",
       "      <td>PILRA</td>\n",
       "      <td>True</td>\n",
       "      <td>False</td>\n",
       "      <td>True</td>\n",
       "      <td>curated</td>\n",
       "      <td>...</td>\n",
       "      <td>0.0</td>\n",
       "      <td>0.0</td>\n",
       "      <td>0.89</td>\n",
       "      <td>0.0</td>\n",
       "      <td>0.0</td>\n",
       "      <td>0.0</td>\n",
       "      <td>0.0</td>\n",
       "      <td>1.111</td>\n",
       "      <td>0.0</td>\n",
       "      <td>0.0</td>\n",
       "    </tr>\n",
       "  </tbody>\n",
       "</table>\n",
       "<p>1 rows × 38 columns</p>\n",
       "</div>"
      ],
      "text/plain": [
       "     id_cp_interaction interacting_pair      partner_a      partner_b gene_a  \\\n",
       "2868   CPI-SS01560CA22       CD99_PILRA  simple:P14209  simple:Q9UKJ1   CD99   \n",
       "\n",
       "     gene_b  secreted  receptor_a  receptor_b annotation_strategy  ...  \\\n",
       "2868  PILRA      True       False        True             curated  ...   \n",
       "\n",
       "      NK_cell|T_cells NK_cell|B_cell NK_cell|Monocyte  NK_cell|NK_cell  \\\n",
       "2868              0.0            0.0             0.89              0.0   \n",
       "\n",
       "      NK_cell|Platelets  Platelets|T_cells  Platelets|B_cell  \\\n",
       "2868                0.0                0.0               0.0   \n",
       "\n",
       "      Platelets|Monocyte  Platelets|NK_cell  Platelets|Platelets  \n",
       "2868               1.111                0.0                  0.0  \n",
       "\n",
       "[1 rows x 38 columns]"
      ]
     },
     "execution_count": 7,
     "metadata": {},
     "output_type": "execute_result"
    }
   ],
   "source": [
    "cpdb_results['means_result'].head(2)"
   ]
  },
  {
   "cell_type": "code",
   "execution_count": null,
   "id": "b1a97767-94c5-4a85-8de6-0051b78929a2",
   "metadata": {},
   "outputs": [],
   "source": []
  },
  {
   "cell_type": "code",
   "execution_count": null,
   "id": "7dbd45bb-5f39-467c-bb4f-95b8a183ed10",
   "metadata": {},
   "outputs": [],
   "source": []
  },
  {
   "cell_type": "code",
   "execution_count": null,
   "id": "3c3b0ddf-c73e-499c-96ef-73cf343a6cfb",
   "metadata": {},
   "outputs": [],
   "source": [
    "\n"
   ]
  }
 ],
 "metadata": {
  "kernelspec": {
   "display_name": "Python 3 (ipykernel)",
   "language": "python",
   "name": "python3"
  },
  "language_info": {
   "codemirror_mode": {
    "name": "ipython",
    "version": 3
   },
   "file_extension": ".py",
   "mimetype": "text/x-python",
   "name": "python",
   "nbconvert_exporter": "python",
   "pygments_lexer": "ipython3",
   "version": "3.12.1"
  }
 },
 "nbformat": 4,
 "nbformat_minor": 5
}
